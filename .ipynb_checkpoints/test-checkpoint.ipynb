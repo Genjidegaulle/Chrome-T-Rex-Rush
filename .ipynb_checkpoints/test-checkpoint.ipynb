{
 "cells": [
  {
   "cell_type": "code",
   "execution_count": null,
   "metadata": {},
   "outputs": [],
   "source": [
    "from NeuroPy import NeuroPy\n",
    "from time import sleep\n",
    "import time\n",
    "\n",
    "neuropy = NeuroPy(\"COM3\") \n",
    "\n",
    "sample_data = []\n",
    "def attention_callback(attention_value):\n",
    "    \"\"\"this function will be called everytime NeuroPy has a new value for attention\"\"\"\n",
    "    print (\"Value of attention is: \", attention_value)\n",
    "    sample_data.append(attention_value)\n",
    "    return None\n",
    "\n",
    "neuropy.setCallBack(\"attention\", attention_callback)\n",
    "neuropy.start()\n",
    "\n",
    "timeout = time.time() + 60*2 \n",
    "try:\n",
    "    while True:\n",
    "        if time.time() > timeout:\n",
    "            break\n",
    "        sleep(0.2)\n",
    "finally:\n",
    "    neuropy.stop()"
   ]
  },
  {
   "cell_type": "code",
   "execution_count": null,
   "metadata": {
    "scrolled": false
   },
   "outputs": [],
   "source": [
    "\n",
    "datafile = open(\"data.txt\", \"w\")\n",
    "for i in sample_data:\n",
    "    datafile.write(\"%d\\n\" % i)\n",
    "    print(i)"
   ]
  }
 ],
 "metadata": {
  "kernelspec": {
   "display_name": "Python 2",
   "language": "python",
   "name": "python2"
  },
  "language_info": {
   "codemirror_mode": {
    "name": "ipython",
    "version": 2
   },
   "file_extension": ".py",
   "mimetype": "text/x-python",
   "name": "python",
   "nbconvert_exporter": "python",
   "pygments_lexer": "ipython2",
   "version": "2.7.14"
  }
 },
 "nbformat": 4,
 "nbformat_minor": 2
}
