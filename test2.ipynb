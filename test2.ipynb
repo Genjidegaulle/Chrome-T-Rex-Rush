{
 "cells": [
  {
   "cell_type": "code",
   "execution_count": null,
   "metadata": {},
   "outputs": [],
   "source": [
    "from NeuroPy import NeuroPy\n",
    "from time import sleep\n",
    "\n",
    "neuropy = NeuroPy(\"COM4\")\n",
    "\n",
    "def meditation_callback(meditation_value):\n",
    "    \"\"\"this function will be called everytime NeuroPy has a new value for attention\"\"\"\n",
    "    print (\"Value of meditation is: \", meditation_value)\n",
    "    return None\n",
    "\n",
    "neuropy.setCallBack(\"meditation\", meditation_callback)\n",
    "neuropy.start()\n",
    "\n",
    "x = 0\n",
    "while x < 10000:\n",
    "    x = x+1\n",
    "    print(neuropy.meditation)\n",
    "    sleep(0.001)\n",
    "    \n",
    "neuropy.stop()"
   ]
  },
  {
   "cell_type": "code",
   "execution_count": null,
   "metadata": {},
   "outputs": [],
   "source": []
  },
  {
   "cell_type": "code",
   "execution_count": null,
   "metadata": {},
   "outputs": [],
   "source": []
  }
 ],
 "metadata": {
  "kernelspec": {
   "display_name": "Python 2",
   "language": "python",
   "name": "python2"
  },
  "language_info": {
   "codemirror_mode": {
    "name": "ipython",
    "version": 2
   },
   "file_extension": ".py",
   "mimetype": "text/x-python",
   "name": "python",
   "nbconvert_exporter": "python",
   "pygments_lexer": "ipython2",
   "version": "2.7.14"
  }
 },
 "nbformat": 4,
 "nbformat_minor": 2
}
