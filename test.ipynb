{
 "cells": [
  {
   "cell_type": "code",
   "execution_count": 1,
   "metadata": {},
   "outputs": [
    {
     "name": "stdout",
     "output_type": "stream",
     "text": [
      "0\n",
      "0\n",
      "0\n",
      "0\n",
      "0\n",
      "0\n",
      "0\n",
      "('Value of attention is: ', 0)\n",
      "0\n",
      "0\n",
      "0\n",
      "0\n",
      "('Value of attention is: ', 0)\n",
      "0\n",
      "0\n",
      "0\n",
      "0\n",
      "0\n",
      "('Value of attention is: ', 0)\n",
      "0\n",
      "0\n",
      "0\n",
      "0\n",
      "0\n",
      "('Value of attention is: ', 0)\n",
      "0\n",
      "0\n",
      "0\n",
      "0\n",
      "0\n",
      "('Value of attention is: ', 0)\n",
      "0\n",
      "0\n",
      "0\n",
      "0\n",
      "0\n",
      "('Value of attention is: ', 0)\n",
      "0\n",
      "0\n",
      "0\n",
      "0\n",
      "0\n",
      "('Value of attention is: ', 30)\n",
      "0\n",
      "0\n",
      "0\n",
      "0\n",
      "0\n",
      "('Value of attention is: ', 24)\n",
      "0\n",
      "0\n",
      "0\n",
      "0\n",
      "0\n",
      "('Value of attention is: ', 10)\n",
      "0\n",
      "0\n",
      "0\n",
      "0\n",
      "0\n",
      "('Value of attention is: ', 1)\n",
      "0\n",
      "0\n",
      "0\n",
      "0\n",
      "0\n",
      "('Value of attention is: ', 1)\n",
      "0\n",
      "0\n",
      "0\n",
      "0\n",
      "('Value of attention is: ', 1)\n",
      "0\n",
      "0\n",
      "0\n",
      "0\n",
      "0\n",
      "('Value of attention is: ', 1)\n",
      "0\n",
      "0\n",
      "0\n",
      "0\n",
      "('Value of attention is: ', 10)\n"
     ]
    },
    {
     "name": "stderr",
     "output_type": "stream",
     "text": [
      "Unhandled exception in thread started by <bound method NeuroPy.__packetParser of <NeuroPy.NeuroPy.NeuroPy object at 0x00000000071A3470>>\n"
     ]
    },
    {
     "ename": "KeyboardInterrupt",
     "evalue": "",
     "output_type": "error",
     "traceback": [
      "\u001b[1;31m---------------------------------------------------------------------------\u001b[0m",
      "\u001b[1;31mKeyboardInterrupt\u001b[0m                         Traceback (most recent call last)",
      "\u001b[1;32m<ipython-input-1-bbd88ee6adb4>\u001b[0m in \u001b[0;36m<module>\u001b[1;34m()\u001b[0m\n\u001b[0;32m     23\u001b[0m        \u001b[1;31m#     print(time.time())\u001b[0m\u001b[1;33m\u001b[0m\u001b[1;33m\u001b[0m\u001b[0m\n\u001b[0;32m     24\u001b[0m        \u001b[1;31m#     break\u001b[0m\u001b[1;33m\u001b[0m\u001b[1;33m\u001b[0m\u001b[0m\n\u001b[1;32m---> 25\u001b[1;33m         \u001b[0msleep\u001b[0m\u001b[1;33m(\u001b[0m\u001b[1;36m0.2\u001b[0m\u001b[1;33m)\u001b[0m\u001b[1;33m\u001b[0m\u001b[0m\n\u001b[0m\u001b[0;32m     26\u001b[0m         \u001b[1;32mprint\u001b[0m\u001b[1;33m(\u001b[0m\u001b[0matt\u001b[0m\u001b[1;33m)\u001b[0m\u001b[1;33m\u001b[0m\u001b[0m\n\u001b[0;32m     27\u001b[0m \u001b[1;32mfinally\u001b[0m\u001b[1;33m:\u001b[0m\u001b[1;33m\u001b[0m\u001b[0m\n",
      "\u001b[1;31mKeyboardInterrupt\u001b[0m: "
     ]
    }
   ],
   "source": [
    "from NeuroPy import NeuroPy\n",
    "from time import sleep\n",
    "import time\n",
    "\n",
    "neuropy = NeuroPy(\"COM4\") \n",
    "\n",
    "sample_data = []\n",
    "att = 0\n",
    "def attention_callback(attention_value):\n",
    "    \"\"\"this function will be called everytime NeuroPy has a new value for attention\"\"\"\n",
    "    print (\"Value of attention is: \", attention_value)\n",
    "    sample_data.append(attention_value)\n",
    "    att = attention_value\n",
    "    return None\n",
    "\n",
    "neuropy.setCallBack(\"attention\", attention_callback)\n",
    "neuropy.start()\n",
    "\n",
    "timeout = time.time() + 60*3\n",
    "try:\n",
    "    while True:\n",
    "       # if time.time() > timeout:\n",
    "       #     print(time.time())\n",
    "       #     break\n",
    "        sleep(0.2)\n",
    "        print(att)\n",
    "finally:\n",
    "    neuropy.stop()"
   ]
  },
  {
   "cell_type": "code",
   "execution_count": null,
   "metadata": {
    "scrolled": false
   },
   "outputs": [],
   "source": [
    "import numpy as np\n",
    "\n",
    "datafile = open(\"data.txt\", \"w\")\n",
    "for i in sample_data:\n",
    "    datafile.write(\"%d\\n\" % i)\n",
    "    print(i)"
   ]
  },
  {
   "cell_type": "code",
   "execution_count": null,
   "metadata": {},
   "outputs": [],
   "source": []
  },
  {
   "cell_type": "code",
   "execution_count": null,
   "metadata": {},
   "outputs": [],
   "source": []
  }
 ],
 "metadata": {
  "kernelspec": {
   "display_name": "Python 2",
   "language": "python",
   "name": "python2"
  },
  "language_info": {
   "codemirror_mode": {
    "name": "ipython",
    "version": 2
   },
   "file_extension": ".py",
   "mimetype": "text/x-python",
   "name": "python",
   "nbconvert_exporter": "python",
   "pygments_lexer": "ipython2",
   "version": "2.7.14"
  }
 },
 "nbformat": 4,
 "nbformat_minor": 2
}
