{
 "cells": [
  {
   "cell_type": "code",
   "execution_count": 6,
   "metadata": {},
   "outputs": [
    {
     "name": "stdout",
     "output_type": "stream",
     "text": [
      "('Value of attention is: ', 0)\n",
      "('Value of attention is: ', 0)\n",
      "('Value of attention is: ', 0)\n",
      "('Value of attention is: ', 0)\n",
      "('Value of attention is: ', 0)\n",
      "('Value of attention is: ', 0)\n",
      "('Value of attention is: ', 0)\n",
      "('Value of attention is: ', 0)\n",
      "('Value of attention is: ', 0)\n",
      "('Value of attention is: ', 0)\n",
      "('Value of attention is: ', 0)\n",
      "('Value of attention is: ', 0)\n"
     ]
    },
    {
     "name": "stderr",
     "output_type": "stream",
     "text": [
      "Unhandled exception in thread started by <bound method NeuroPy.__packetParser of <NeuroPy.NeuroPy.NeuroPy object at 0x000000000934D978>>\n",
      "Exception AttributeError: \"'NoneType' object has no attribute 'close'\" in <bound method NeuroPy.__del__ of <NeuroPy.NeuroPy.NeuroPy object at 0x000000000934D908>> ignored\n"
     ]
    },
    {
     "ename": "KeyboardInterrupt",
     "evalue": "",
     "output_type": "error",
     "traceback": [
      "\u001b[1;31m---------------------------------------------------------------------------\u001b[0m",
      "\u001b[1;31mKeyboardInterrupt\u001b[0m                         Traceback (most recent call last)",
      "\u001b[1;32m<ipython-input-6-1fc7c727a302>\u001b[0m in \u001b[0;36m<module>\u001b[1;34m()\u001b[0m\n\u001b[0;32m     21\u001b[0m             \u001b[1;32mprint\u001b[0m\u001b[1;33m(\u001b[0m\u001b[0mtime\u001b[0m\u001b[1;33m.\u001b[0m\u001b[0mtime\u001b[0m\u001b[1;33m(\u001b[0m\u001b[1;33m)\u001b[0m\u001b[1;33m)\u001b[0m\u001b[1;33m\u001b[0m\u001b[0m\n\u001b[0;32m     22\u001b[0m             \u001b[1;32mbreak\u001b[0m\u001b[1;33m\u001b[0m\u001b[0m\n\u001b[1;32m---> 23\u001b[1;33m         \u001b[0msleep\u001b[0m\u001b[1;33m(\u001b[0m\u001b[1;36m0.2\u001b[0m\u001b[1;33m)\u001b[0m\u001b[1;33m\u001b[0m\u001b[0m\n\u001b[0m\u001b[0;32m     24\u001b[0m \u001b[1;32mfinally\u001b[0m\u001b[1;33m:\u001b[0m\u001b[1;33m\u001b[0m\u001b[0m\n\u001b[0;32m     25\u001b[0m     \u001b[0mneuropy\u001b[0m\u001b[1;33m.\u001b[0m\u001b[0mstop\u001b[0m\u001b[1;33m(\u001b[0m\u001b[1;33m)\u001b[0m\u001b[1;33m\u001b[0m\u001b[0m\n",
      "\u001b[1;31mKeyboardInterrupt\u001b[0m: "
     ]
    }
   ],
   "source": [
    "from NeuroPy import NeuroPy\n",
    "from time import sleep\n",
    "import time\n",
    "\n",
    "neuropy = NeuroPy(\"COM3\") \n",
    "\n",
    "sample_data = []\n",
    "def attention_callback(attention_value):\n",
    "    \"\"\"this function will be called everytime NeuroPy has a new value for attention\"\"\"\n",
    "    print (\"Value of attention is: \", attention_value)\n",
    "    sample_data.append(attention_value)\n",
    "    return None\n",
    "\n",
    "neuropy.setCallBack(\"attention\", attention_callback)\n",
    "neuropy.start()\n",
    "\n",
    "timeout = time.time() + 60*3\n",
    "try:\n",
    "    while True:\n",
    "        if time.time() > timeout:\n",
    "            print(time.time())\n",
    "            break\n",
    "        sleep(0.2)\n",
    "finally:\n",
    "    neuropy.stop()"
   ]
  },
  {
   "cell_type": "code",
   "execution_count": null,
   "metadata": {
    "scrolled": false
   },
   "outputs": [],
   "source": [
    "import numpy as np\n",
    "\n",
    "datafile = open(\"data.txt\", \"w\")\n",
    "for i in sample_data:\n",
    "    datafile.write(\"%d\\n\" % i)\n",
    "    print(i)"
   ]
  },
  {
   "cell_type": "code",
   "execution_count": null,
   "metadata": {},
   "outputs": [],
   "source": []
  }
 ],
 "metadata": {
  "kernelspec": {
   "display_name": "Python 2",
   "language": "python",
   "name": "python2"
  },
  "language_info": {
   "codemirror_mode": {
    "name": "ipython",
    "version": 2
   },
   "file_extension": ".py",
   "mimetype": "text/x-python",
   "name": "python",
   "nbconvert_exporter": "python",
   "pygments_lexer": "ipython2",
   "version": "2.7.14"
  }
 },
 "nbformat": 4,
 "nbformat_minor": 2
}
